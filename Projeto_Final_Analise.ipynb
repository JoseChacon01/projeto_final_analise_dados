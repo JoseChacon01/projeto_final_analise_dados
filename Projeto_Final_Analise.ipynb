{
  "nbformat": 4,
  "nbformat_minor": 0,
  "metadata": {
    "colab": {
      "provenance": [],
      "authorship_tag": "ABX9TyOg8LOxWQb9L0UvfFmruDEU",
      "include_colab_link": true
    },
    "kernelspec": {
      "name": "python3",
      "display_name": "Python 3"
    },
    "language_info": {
      "name": "python"
    }
  },
  "cells": [
    {
      "cell_type": "markdown",
      "metadata": {
        "id": "view-in-github",
        "colab_type": "text"
      },
      "source": [
        "<a href=\"https://colab.research.google.com/github/JoseChacon01/projeto_final_analise_dados/blob/main/Projeto_Final_Analise.ipynb\" target=\"_parent\"><img src=\"https://colab.research.google.com/assets/colab-badge.svg\" alt=\"Open In Colab\"/></a>"
      ]
    },
    {
      "cell_type": "markdown",
      "source": [
        "## 2021 - Microdados Eficiência Acadêmica:"
      ],
      "metadata": {
        "id": "WwbfDbpwVOaU"
      }
    },
    {
      "cell_type": "markdown",
      "source": [
        "## Necessário realizar operações de análises descritivas e exploratórias. Exemplos:\n",
        "\n",
        "\n",
        "\n",
        "*   Quantidade total, média, mediana, desvio-padrão de itens de uma coluna ou linha em específico;\n",
        "*   Os maiores e menores valores de uma coluna ou linha em específico;\n",
        "*   Contagem ou soma de valores de um determinado agrupamento;\n",
        "*   Operações considerando datas (temporais);\n",
        "*   Entre outros.\n",
        "\n"
      ],
      "metadata": {
        "id": "LzW2quNKUoJU"
      }
    },
    {
      "cell_type": "code",
      "source": [],
      "metadata": {
        "id": "Wjf0WDJRZZkM"
      },
      "execution_count": null,
      "outputs": []
    }
  ]
}